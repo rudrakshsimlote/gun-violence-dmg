{
 "cells": [
  {
   "cell_type": "code",
   "execution_count": 1,
   "id": "6dc3ca8b-2628-456c-87e1-142697c8b389",
   "metadata": {},
   "outputs": [
    {
     "name": "stdout",
     "output_type": "stream",
     "text": [
      "There are 0 null values in the provisions_df\n",
      "There are 0 null values in the gun_violence_df\n",
      "There are 0 null values in the mortality_df\n"
     ]
    }
   ],
   "source": [
    "import pandas as pd\n",
    "\n",
    "# read dataframes\n",
    "provisions_df = pd.read_csv('Firearm Provisions.csv')\n",
    "gun_violence_df = pd.read_csv('Gun Violence Data (2013-2018).csv')\n",
    "mortality_df = pd.read_csv('Mortality By State.csv')\n",
    "\n",
    "# Check for null values\n",
    "print(f'There are {provisions_df.isnull().sum().sum()} null values in the provisions_df')\n",
    "print(f'There are {gun_violence_df.isnull().sum().sum()} null values in the gun_violence_df')\n",
    "print(f'There are {mortality_df.isnull().sum().sum()} null values in the mortality_df')"
   ]
  },
  {
   "cell_type": "code",
   "execution_count": 2,
   "id": "670cc515-ec67-4cec-ba09-3066282c754d",
   "metadata": {},
   "outputs": [
    {
     "name": "stdout",
     "output_type": "stream",
     "text": [
      "Gun Violence:\n",
      " [2013 2014 2015 2016 2017 2018]\n"
     ]
    }
   ],
   "source": [
    "# Extract the year from dates\n",
    "gun_violence_df['date'] = pd.to_datetime(gun_violence_df['date'])\n",
    "gun_violence_df['year'] = gun_violence_df['date'].dt.year\n",
    "gun_violence_df = gun_violence_df.drop(columns=['date'])\n",
    "print(\"Gun Violence:\\n\", gun_violence_df['year'].unique())"
   ]
  },
  {
   "cell_type": "code",
   "execution_count": 3,
   "id": "1b9ec28a-f646-4e5c-ba01-d55b08cd173f",
   "metadata": {},
   "outputs": [
    {
     "name": "stdout",
     "output_type": "stream",
     "text": [
      "Provisions:\n",
      " ['AL' 'AK' 'AZ' 'AR' 'CA' 'CO' 'CT' 'DE' 'FL' 'GA' 'HI' 'ID' 'IL' 'IN'\n",
      " 'IA' 'KS' 'KY' 'LA' 'ME' 'MD' 'MA' 'MI' 'MN' 'MS' 'MO' 'MT' 'NE' 'NV'\n",
      " 'NH' 'NJ' 'NM' 'NY' 'NC' 'ND' 'OH' 'OK' 'OR' 'PA' 'RI' 'SC' 'SD' 'TN'\n",
      " 'TX' 'UT' 'VT' 'VA' 'WA' 'WV' 'WI' 'WY']\n",
      "Gun Violence ['PA' 'CA' 'OH' 'CO' 'NC' 'OK' 'NM' 'LA' 'MD' 'TN' 'MO' 'DC' 'IL' 'DE'\n",
      " 'UT' 'MI' 'GA' 'IN' 'MS' 'NY' 'FL' 'WA' 'SC' 'AZ' 'KY' 'NJ' 'VA' 'WI'\n",
      " 'RI' 'TX' 'AL' 'KS' 'CT' 'WV' 'MN' 'NV' 'NE' 'MA' 'HI' 'NH' 'IA' 'AK'\n",
      " 'AR' 'ID' 'OR' 'WY' 'ME' 'ND' 'MT' 'VT' 'SD']\n"
     ]
    }
   ],
   "source": [
    "#abbreviate state names\n",
    "replace_states = {\n",
    "    \"Alabama\": \"AL\",\n",
    "    \"Alaska\": \"AK\",\n",
    "    \"Arizona\": \"AZ\",\n",
    "    \"Arkansas\": \"AR\",\n",
    "    \"California\": \"CA\",\n",
    "    \"Colorado\": \"CO\",\n",
    "    \"Connecticut\": \"CT\",\n",
    "    \"Delaware\": \"DE\",\n",
    "    \"Florida\": \"FL\",\n",
    "    \"Georgia\": \"GA\",\n",
    "    \"Hawaii\": \"HI\",\n",
    "    \"Idaho\": \"ID\",\n",
    "    \"Illinois\": \"IL\",\n",
    "    \"Indiana\": \"IN\",\n",
    "    \"Iowa\": \"IA\",\n",
    "    \"Kansas\": \"KS\",\n",
    "    \"Kentucky\": \"KY\",\n",
    "    \"Louisiana\": \"LA\",\n",
    "    \"Maine\": \"ME\",\n",
    "    \"Maryland\": \"MD\",\n",
    "    \"Massachusetts\": \"MA\",\n",
    "    \"Michigan\": \"MI\",\n",
    "    \"Minnesota\": \"MN\",\n",
    "    \"Mississippi\": \"MS\",\n",
    "    \"Missouri\": \"MO\",\n",
    "    \"Montana\": \"MT\",\n",
    "    \"Nebraska\": \"NE\",\n",
    "    \"Nevada\": \"NV\",\n",
    "    \"New Hampshire\": \"NH\",\n",
    "    \"New Jersey\": \"NJ\",\n",
    "    \"New Mexico\": \"NM\",\n",
    "    \"New York\": \"NY\",\n",
    "    \"North Carolina\": \"NC\",\n",
    "    \"North Dakota\": \"ND\",\n",
    "    \"Ohio\": \"OH\",\n",
    "    \"Oklahoma\": \"OK\",\n",
    "    \"Oregon\": \"OR\",\n",
    "    \"Pennsylvania\": \"PA\",\n",
    "    \"Rhode Island\": \"RI\",\n",
    "    \"South Carolina\": \"SC\",\n",
    "    \"South Dakota\": \"SD\",\n",
    "    \"Tennessee\": \"TN\",\n",
    "    \"Texas\": \"TX\",\n",
    "    \"Utah\": \"UT\",\n",
    "    \"Vermont\": \"VT\",\n",
    "    \"Virginia\": \"VA\",\n",
    "    \"Washington\": \"WA\",\n",
    "    \"West Virginia\": \"WV\",\n",
    "    \"Wisconsin\": \"WI\",\n",
    "    \"Wyoming\": \"WY\",\n",
    "    \"District of Columbia\": \"DC\",\n",
    "}\n",
    "\n",
    "provisions_df['state'] = provisions_df['state'].map(replace_states)\n",
    "print(\"Provisions:\\n\", provisions_df['state'].unique())\n",
    "gun_violence_df['state'] = gun_violence_df['state'].map(replace_states)\n",
    "print(\"Gun Violence\", gun_violence_df['state'].unique())"
   ]
  },
  {
   "cell_type": "code",
   "execution_count": 8,
   "id": "503834f2-f112-4358-b798-7e5075912b77",
   "metadata": {},
   "outputs": [
    {
     "name": "stdout",
     "output_type": "stream",
     "text": [
      "state :\n",
      " ['AL' 'AK' 'AZ' 'AR' 'CA' 'CO' 'CT' 'DE' 'FL' 'GA' 'HI' 'ID' 'IL' 'IN'\n",
      " 'IA' 'KS' 'KY' 'LA' 'ME' 'MD' 'MA' 'MI' 'MN' 'MS' 'MO' 'MT' 'NE' 'NV'\n",
      " 'NH' 'NJ' 'NM' 'NY' 'NC' 'ND' 'OH' 'OK' 'OR' 'PA' 'RI' 'SC' 'SD' 'TN'\n",
      " 'TX' 'UT' 'VT' 'VA' 'WA' 'WV' 'WI' 'WY']\n"
     ]
    }
   ],
   "source": [
    "# Check for bad values in non-numeric columns of provisions_df\n",
    "provisions_check = provisions_df.select_dtypes(include=['object']).columns\n",
    "for i in provisions_check:\n",
    "    print(i, \":\\n\", provisions_df[i].unique())"
   ]
  },
  {
   "cell_type": "code",
   "execution_count": 9,
   "id": "975751ea-324f-40ce-be60-6280156d53b2",
   "metadata": {},
   "outputs": [
    {
     "name": "stdout",
     "output_type": "stream",
     "text": [
      "state :\n",
      " ['PA' 'CA' 'OH' 'CO' 'NC' 'OK' 'NM' 'LA' 'MD' 'TN' 'MO' 'DC' 'IL' 'DE'\n",
      " 'UT' 'MI' 'GA' 'IN' 'MS' 'NY' 'FL' 'WA' 'SC' 'AZ' 'KY' 'NJ' 'VA' 'WI'\n",
      " 'RI' 'TX' 'AL' 'KS' 'CT' 'WV' 'MN' 'NV' 'NE' 'MA' 'HI' 'NH' 'IA' 'AK'\n",
      " 'AR' 'ID' 'OR' 'WY' 'ME' 'ND' 'MT' 'VT' 'SD']\n"
     ]
    }
   ],
   "source": [
    "# Check for bad values in non-numeric columns of gun_violence_df\n",
    "gun_violence_check = gun_violence_df.select_dtypes(include=['object']).columns\n",
    "for i in gun_violence_check:\n",
    "    print(i, \":\\n\", gun_violence_df[i].unique())"
   ]
  },
  {
   "cell_type": "code",
   "execution_count": 4,
   "id": "3b426c89-ef6b-4356-af79-991bbe56fbcf",
   "metadata": {},
   "outputs": [
    {
     "name": "stdout",
     "output_type": "stream",
     "text": [
      "STATE :\n",
      " ['AL' 'AK' 'AZ' 'AR' 'CA' 'CO' 'CT' 'DE' 'District of Columbia' 'FL' 'GA'\n",
      " 'HI' 'ID' 'IL' 'IN' 'IA' 'KS' 'KY' 'LA' 'ME' 'MD' 'MA' 'MI' 'MN' 'MS'\n",
      " 'MO' 'MT' 'NE' 'NV' 'NH' 'NJ' 'NM' 'NY' 'NC' 'ND' 'OH' 'OK' 'OR' 'PA'\n",
      " 'RI' 'SC' 'SD' 'TN' 'TX' 'UT' 'VT' 'VA' 'WA' 'WV' 'WI' 'WY']\n",
      "DEATHS :\n",
      " ['1,278' '164' '1,535' '666' '3,484' '1,036' '252' '124' '154' '3,232'\n",
      " '2,163' '66' '338' '1,798' '1,211' '367' '492' '840' '1,266' '179' '813'\n",
      " '263' '1,504' '561' '848' '1,489' '274' '244' '618' '156' '468' '571'\n",
      " '1,044' '1,831' '125' '797' '655' '1,941' '37' '1,105' '141' '1,480'\n",
      " '4,630' '446' '84' '1,316' '1,022' '311' '830' '1,315' '182' '1,365'\n",
      " '698' '3,576' '1,064' '248' '158' '3,142' '2,200' '71' '309' '1,995'\n",
      " '1,251' '364' '503' '947' '1,314' '178' '915' '247' '1,544' '573' '962'\n",
      " '1,414' '280' '200' '633' '123' '475' '578' '1,078' '1,839' '128' '1,911'\n",
      " '836' '670' '1,905' '64' '1,136' '1,569' '4,613' '450' '83' '1,248' '896'\n",
      " '319' '793' '155' '1,141' '175' '1,265' '673' '3,449' '922' '219' '135'\n",
      " '3,041' '1,897' '50' '321' '1,745' '1,159' '351' '494' '902' '1,183'\n",
      " '153' '803' '268' '1,454' '513' '818' '1,426' '238' '197' '547' '443'\n",
      " '479' '1,052' '1,699' '100' '1,764' '826' '592' '1,752' '54' '1,131'\n",
      " '120' '1,473' '4,164' '429' '76' '1,174' '864' '325' '717' '1,076' '580'\n",
      " '2,945' '846' '190' '93' '2,872' '1,695' '62' '255' '1,367' '958' '294'\n",
      " '403' '682' '1,013' '163' '757' '1,220' '465' '710' '1,252' '209' '205'\n",
      " '490' '368' '471' '804' '1,397' '1,578' '737' '566' '1,541' '48' '1,012'\n",
      " '113' '1,270' '3,683' '394' '67' '1,025' '842' '300' '604' '133' '1,147'\n",
      " '3,040' '889' '186' '107' '2,902' '1,680' '59' '1,382' '977' '282' '424'\n",
      " '762' '991' '159' '707' '258' '1,310' '437' '681' '1,311' '183' '550'\n",
      " '420' '438' '821' '1,416' '89' '1,555' '665' '519' '1,654' '895' '117'\n",
      " '1,228' '3,522' '397' '82' '1,035' '809' '343' '598' '1,124' '180'\n",
      " '1,134' '613' '3,184' '779' '188' '111' '2,724' '1,623' '39' '1,543'\n",
      " '1,016' '293' '466' '730' '1,008' '172' '742' '262' '1,138' '632' '1,307'\n",
      " '160' '508' '146' '478' '772' '1,430' '103' '1,589' '528' '1,636' '43'\n",
      " '893' '101' '1,246' '3,513' '410' '70' '1,041' '849' '348' '624' '1,046'\n",
      " '177' '1,094' '541' '812' '2,704' '1,571' '242' '1,490' '997' '288' '383'\n",
      " '987' '1,230' '432' '587' '1,144' '194' '171' '498' '132' '485' '900'\n",
      " '1,409' '90' '1,524' '766' '49' '891' '108' '1,148' '3,353' '370' '78'\n",
      " '1,049' '686' '332' '664' '970' '520' '3,095' '701' '189' '112' '2,559'\n",
      " '1,448' '55' '330' '694' '952' '144' '708' '213' '1,164' '589' '169'\n",
      " '121' '390' '1,289' '92' '706' '486' '1,485' '51' '850' '96' '1,075'\n",
      " '3,203' '946' '718' '278' '815' '145' '927' '496' '2,942' '663' '187'\n",
      " '102' '2,410' '1,391' '40' '1,179' '241' '329' '634' '546' '226' '1,095'\n",
      " '377' '943' '122' '340' '875' '1,206' '611' '497' '1,390' '34' '767'\n",
      " '2,848' '337' '69' '702' '286' '487']\n"
     ]
    }
   ],
   "source": [
    "# Check for bad values in non-numeric columns of mortality_df\n",
    "mortality_check = mortality_df.select_dtypes(include=['object']).columns\n",
    "for i in mortality_check:\n",
    "    print(i, \":\\n\", mortality_df[i].unique())"
   ]
  },
  {
   "cell_type": "code",
   "execution_count": 5,
   "id": "72ce99cc-f6a5-4add-9e9c-8eca24aab854",
   "metadata": {},
   "outputs": [
    {
     "name": "stdout",
     "output_type": "stream",
     "text": [
      "State:\n",
      " ['AL' 'AK' 'AZ' 'AR' 'CA' 'CO' 'CT' 'DE' 'DC' 'FL' 'GA' 'HI' 'ID' 'IL'\n",
      " 'IN' 'IA' 'KS' 'KY' 'LA' 'ME' 'MD' 'MA' 'MI' 'MN' 'MS' 'MO' 'MT' 'NE'\n",
      " 'NV' 'NH' 'NJ' 'NM' 'NY' 'NC' 'ND' 'OH' 'OK' 'OR' 'PA' 'RI' 'SC' 'SD'\n",
      " 'TN' 'TX' 'UT' 'VT' 'VA' 'WA' 'WV' 'WI' 'WY']\n",
      "Deaths:\n",
      " int64\n"
     ]
    }
   ],
   "source": [
    "# Replace 'District of Columbia' with 'DC'\n",
    "mortality_df['STATE'] = mortality_df['STATE'].str.replace('District of Columbia', 'DC', case=False)\n",
    "print(\"State:\\n\", mortality_df['STATE'].unique())\n",
    "# Remove commas from numbers\n",
    "mortality_df['DEATHS'] = mortality_df['DEATHS'].str.replace(',', '').astype(int)\n",
    "print(\"Deaths:\\n\", mortality_df['DEATHS'].dtype)"
   ]
  },
  {
   "cell_type": "code",
   "execution_count": 12,
   "id": "cecd3e54-dc2d-4655-9794-77fe830c3453",
   "metadata": {},
   "outputs": [
    {
     "data": {
      "text/html": [
       "<div>\n",
       "<style scoped>\n",
       "    .dataframe tbody tr th:only-of-type {\n",
       "        vertical-align: middle;\n",
       "    }\n",
       "\n",
       "    .dataframe tbody tr th {\n",
       "        vertical-align: top;\n",
       "    }\n",
       "\n",
       "    .dataframe thead th {\n",
       "        text-align: right;\n",
       "    }\n",
       "</style>\n",
       "<table border=\"1\" class=\"dataframe\">\n",
       "  <thead>\n",
       "    <tr style=\"text-align: right;\">\n",
       "      <th></th>\n",
       "      <th>mortality_id</th>\n",
       "      <th>YEAR</th>\n",
       "      <th>STATE</th>\n",
       "      <th>RATE</th>\n",
       "      <th>DEATHS</th>\n",
       "    </tr>\n",
       "  </thead>\n",
       "  <tbody>\n",
       "    <tr>\n",
       "      <th>0</th>\n",
       "      <td>1</td>\n",
       "      <td>2022</td>\n",
       "      <td>AL</td>\n",
       "      <td>25.5</td>\n",
       "      <td>1278</td>\n",
       "    </tr>\n",
       "    <tr>\n",
       "      <th>1</th>\n",
       "      <td>2</td>\n",
       "      <td>2022</td>\n",
       "      <td>AK</td>\n",
       "      <td>22.4</td>\n",
       "      <td>164</td>\n",
       "    </tr>\n",
       "    <tr>\n",
       "      <th>2</th>\n",
       "      <td>3</td>\n",
       "      <td>2022</td>\n",
       "      <td>AZ</td>\n",
       "      <td>20.1</td>\n",
       "      <td>1535</td>\n",
       "    </tr>\n",
       "    <tr>\n",
       "      <th>3</th>\n",
       "      <td>4</td>\n",
       "      <td>2022</td>\n",
       "      <td>AR</td>\n",
       "      <td>21.9</td>\n",
       "      <td>666</td>\n",
       "    </tr>\n",
       "    <tr>\n",
       "      <th>4</th>\n",
       "      <td>5</td>\n",
       "      <td>2022</td>\n",
       "      <td>CA</td>\n",
       "      <td>8.6</td>\n",
       "      <td>3484</td>\n",
       "    </tr>\n",
       "    <tr>\n",
       "      <th>...</th>\n",
       "      <td>...</td>\n",
       "      <td>...</td>\n",
       "      <td>...</td>\n",
       "      <td>...</td>\n",
       "      <td>...</td>\n",
       "    </tr>\n",
       "    <tr>\n",
       "      <th>446</th>\n",
       "      <td>447</td>\n",
       "      <td>2014</td>\n",
       "      <td>VA</td>\n",
       "      <td>10.3</td>\n",
       "      <td>889</td>\n",
       "    </tr>\n",
       "    <tr>\n",
       "      <th>447</th>\n",
       "      <td>448</td>\n",
       "      <td>2014</td>\n",
       "      <td>WA</td>\n",
       "      <td>9.7</td>\n",
       "      <td>702</td>\n",
       "    </tr>\n",
       "    <tr>\n",
       "      <th>448</th>\n",
       "      <td>449</td>\n",
       "      <td>2014</td>\n",
       "      <td>WV</td>\n",
       "      <td>14.6</td>\n",
       "      <td>286</td>\n",
       "    </tr>\n",
       "    <tr>\n",
       "      <th>449</th>\n",
       "      <td>450</td>\n",
       "      <td>2014</td>\n",
       "      <td>WI</td>\n",
       "      <td>8.2</td>\n",
       "      <td>487</td>\n",
       "    </tr>\n",
       "    <tr>\n",
       "      <th>450</th>\n",
       "      <td>451</td>\n",
       "      <td>2014</td>\n",
       "      <td>WY</td>\n",
       "      <td>16.2</td>\n",
       "      <td>93</td>\n",
       "    </tr>\n",
       "  </tbody>\n",
       "</table>\n",
       "<p>451 rows × 5 columns</p>\n",
       "</div>"
      ],
      "text/plain": [
       "     mortality_id  YEAR STATE  RATE  DEATHS\n",
       "0               1  2022    AL  25.5    1278\n",
       "1               2  2022    AK  22.4     164\n",
       "2               3  2022    AZ  20.1    1535\n",
       "3               4  2022    AR  21.9     666\n",
       "4               5  2022    CA   8.6    3484\n",
       "..            ...   ...   ...   ...     ...\n",
       "446           447  2014    VA  10.3     889\n",
       "447           448  2014    WA   9.7     702\n",
       "448           449  2014    WV  14.6     286\n",
       "449           450  2014    WI   8.2     487\n",
       "450           451  2014    WY  16.2      93\n",
       "\n",
       "[451 rows x 5 columns]"
      ]
     },
     "execution_count": 12,
     "metadata": {},
     "output_type": "execute_result"
    }
   ],
   "source": [
    "mortality_df"
   ]
  },
  {
   "cell_type": "code",
   "execution_count": 10,
   "id": "a2efc1f8-c8db-4156-84e9-16408fb537d1",
   "metadata": {},
   "outputs": [],
   "source": [
    "#Save csv\n",
    "provisions_df.to_csv('Firearm Provisions', index=False)\n",
    "gun_violence_df.to_csv('Gun Violence Data', index=False)\n",
    "mortality_df.to_csv('Mortality By State', index=False)"
   ]
  }
 ],
 "metadata": {
  "kernelspec": {
   "display_name": "Python 3 (ipykernel)",
   "language": "python",
   "name": "python3"
  },
  "language_info": {
   "codemirror_mode": {
    "name": "ipython",
    "version": 3
   },
   "file_extension": ".py",
   "mimetype": "text/x-python",
   "name": "python",
   "nbconvert_exporter": "python",
   "pygments_lexer": "ipython3",
   "version": "3.12.2"
  }
 },
 "nbformat": 4,
 "nbformat_minor": 5
}
