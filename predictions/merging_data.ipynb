{
 "cells": [
  {
   "cell_type": "code",
   "execution_count": 1,
   "metadata": {},
   "outputs": [
    {
     "data": {
      "text/html": [
       "<div>\n",
       "<style scoped>\n",
       "    .dataframe tbody tr th:only-of-type {\n",
       "        vertical-align: middle;\n",
       "    }\n",
       "\n",
       "    .dataframe tbody tr th {\n",
       "        vertical-align: top;\n",
       "    }\n",
       "\n",
       "    .dataframe thead th {\n",
       "        text-align: right;\n",
       "    }\n",
       "</style>\n",
       "<table border=\"1\" class=\"dataframe\">\n",
       "  <thead>\n",
       "    <tr style=\"text-align: right;\">\n",
       "      <th></th>\n",
       "      <th>mortality_id</th>\n",
       "      <th>YEAR</th>\n",
       "      <th>STATE</th>\n",
       "      <th>RATE</th>\n",
       "      <th>DEATHS</th>\n",
       "    </tr>\n",
       "  </thead>\n",
       "  <tbody>\n",
       "    <tr>\n",
       "      <th>0</th>\n",
       "      <td>1</td>\n",
       "      <td>2022</td>\n",
       "      <td>AL</td>\n",
       "      <td>25.5</td>\n",
       "      <td>1278</td>\n",
       "    </tr>\n",
       "    <tr>\n",
       "      <th>1</th>\n",
       "      <td>2</td>\n",
       "      <td>2022</td>\n",
       "      <td>AK</td>\n",
       "      <td>22.4</td>\n",
       "      <td>164</td>\n",
       "    </tr>\n",
       "    <tr>\n",
       "      <th>2</th>\n",
       "      <td>3</td>\n",
       "      <td>2022</td>\n",
       "      <td>AZ</td>\n",
       "      <td>20.1</td>\n",
       "      <td>1535</td>\n",
       "    </tr>\n",
       "    <tr>\n",
       "      <th>3</th>\n",
       "      <td>4</td>\n",
       "      <td>2022</td>\n",
       "      <td>AR</td>\n",
       "      <td>21.9</td>\n",
       "      <td>666</td>\n",
       "    </tr>\n",
       "    <tr>\n",
       "      <th>4</th>\n",
       "      <td>5</td>\n",
       "      <td>2022</td>\n",
       "      <td>CA</td>\n",
       "      <td>8.6</td>\n",
       "      <td>3484</td>\n",
       "    </tr>\n",
       "  </tbody>\n",
       "</table>\n",
       "</div>"
      ],
      "text/plain": [
       "   mortality_id  YEAR STATE  RATE  DEATHS\n",
       "0             1  2022    AL  25.5    1278\n",
       "1             2  2022    AK  22.4     164\n",
       "2             3  2022    AZ  20.1    1535\n",
       "3             4  2022    AR  21.9     666\n",
       "4             5  2022    CA   8.6    3484"
      ]
     },
     "execution_count": 1,
     "metadata": {},
     "output_type": "execute_result"
    }
   ],
   "source": [
    "import pandas as pd\n",
    "\n",
    "# Load the data\n",
    "firearm_provisions = pd.read_csv('Firearm_Provisions.csv')\n",
    "gun_violence_data = pd.read_csv('Gun_Violence_Data.csv')\n",
    "mass_shooters = pd.read_csv('Mass_Shooters.csv')\n",
    "mass_shootings = pd.read_csv('Mass_Shootings.csv')\n",
    "mortality_by_state = pd.read_csv('Mortality_By_State.csv')\n",
    "\n",
    "mortality_by_state.head()\n"
   ]
  },
  {
   "cell_type": "code",
   "execution_count": 2,
   "metadata": {},
   "outputs": [
    {
     "data": {
      "text/html": [
       "<div>\n",
       "<style scoped>\n",
       "    .dataframe tbody tr th:only-of-type {\n",
       "        vertical-align: middle;\n",
       "    }\n",
       "\n",
       "    .dataframe tbody tr th {\n",
       "        vertical-align: top;\n",
       "    }\n",
       "\n",
       "    .dataframe thead th {\n",
       "        text-align: right;\n",
       "    }\n",
       "</style>\n",
       "<table border=\"1\" class=\"dataframe\">\n",
       "  <thead>\n",
       "    <tr style=\"text-align: right;\">\n",
       "      <th></th>\n",
       "      <th>provision_id</th>\n",
       "      <th>state</th>\n",
       "      <th>year</th>\n",
       "      <th>age18longgunpossess</th>\n",
       "      <th>age18longgunsale</th>\n",
       "      <th>age21handgunpossess</th>\n",
       "      <th>age21handgunsale</th>\n",
       "      <th>age21longgunpossess</th>\n",
       "      <th>age21longgunsale</th>\n",
       "      <th>age21longgunsaled</th>\n",
       "      <th>...</th>\n",
       "      <th>violentpartial</th>\n",
       "      <th>waiting</th>\n",
       "      <th>waitingh</th>\n",
       "      <th>lawtotal</th>\n",
       "      <th>mortality_id</th>\n",
       "      <th>RATE</th>\n",
       "      <th>DEATHS</th>\n",
       "      <th>incident_id</th>\n",
       "      <th>n_killed</th>\n",
       "      <th>n_injured</th>\n",
       "    </tr>\n",
       "  </thead>\n",
       "  <tbody>\n",
       "    <tr>\n",
       "      <th>0</th>\n",
       "      <td>1151</td>\n",
       "      <td>AL</td>\n",
       "      <td>2014</td>\n",
       "      <td>0</td>\n",
       "      <td>0</td>\n",
       "      <td>0</td>\n",
       "      <td>0</td>\n",
       "      <td>0</td>\n",
       "      <td>0</td>\n",
       "      <td>0</td>\n",
       "      <td>...</td>\n",
       "      <td>0</td>\n",
       "      <td>0</td>\n",
       "      <td>0</td>\n",
       "      <td>10</td>\n",
       "      <td>402</td>\n",
       "      <td>16.9</td>\n",
       "      <td>815</td>\n",
       "      <td>92342</td>\n",
       "      <td>1</td>\n",
       "      <td>0</td>\n",
       "    </tr>\n",
       "    <tr>\n",
       "      <th>1</th>\n",
       "      <td>1151</td>\n",
       "      <td>AL</td>\n",
       "      <td>2014</td>\n",
       "      <td>0</td>\n",
       "      <td>0</td>\n",
       "      <td>0</td>\n",
       "      <td>0</td>\n",
       "      <td>0</td>\n",
       "      <td>0</td>\n",
       "      <td>0</td>\n",
       "      <td>...</td>\n",
       "      <td>0</td>\n",
       "      <td>0</td>\n",
       "      <td>0</td>\n",
       "      <td>10</td>\n",
       "      <td>402</td>\n",
       "      <td>16.9</td>\n",
       "      <td>815</td>\n",
       "      <td>94194</td>\n",
       "      <td>0</td>\n",
       "      <td>3</td>\n",
       "    </tr>\n",
       "    <tr>\n",
       "      <th>2</th>\n",
       "      <td>1151</td>\n",
       "      <td>AL</td>\n",
       "      <td>2014</td>\n",
       "      <td>0</td>\n",
       "      <td>0</td>\n",
       "      <td>0</td>\n",
       "      <td>0</td>\n",
       "      <td>0</td>\n",
       "      <td>0</td>\n",
       "      <td>0</td>\n",
       "      <td>...</td>\n",
       "      <td>0</td>\n",
       "      <td>0</td>\n",
       "      <td>0</td>\n",
       "      <td>10</td>\n",
       "      <td>402</td>\n",
       "      <td>16.9</td>\n",
       "      <td>815</td>\n",
       "      <td>92337</td>\n",
       "      <td>1</td>\n",
       "      <td>0</td>\n",
       "    </tr>\n",
       "    <tr>\n",
       "      <th>3</th>\n",
       "      <td>1151</td>\n",
       "      <td>AL</td>\n",
       "      <td>2014</td>\n",
       "      <td>0</td>\n",
       "      <td>0</td>\n",
       "      <td>0</td>\n",
       "      <td>0</td>\n",
       "      <td>0</td>\n",
       "      <td>0</td>\n",
       "      <td>0</td>\n",
       "      <td>...</td>\n",
       "      <td>0</td>\n",
       "      <td>0</td>\n",
       "      <td>0</td>\n",
       "      <td>10</td>\n",
       "      <td>402</td>\n",
       "      <td>16.9</td>\n",
       "      <td>815</td>\n",
       "      <td>95279</td>\n",
       "      <td>0</td>\n",
       "      <td>1</td>\n",
       "    </tr>\n",
       "    <tr>\n",
       "      <th>4</th>\n",
       "      <td>1151</td>\n",
       "      <td>AL</td>\n",
       "      <td>2014</td>\n",
       "      <td>0</td>\n",
       "      <td>0</td>\n",
       "      <td>0</td>\n",
       "      <td>0</td>\n",
       "      <td>0</td>\n",
       "      <td>0</td>\n",
       "      <td>0</td>\n",
       "      <td>...</td>\n",
       "      <td>0</td>\n",
       "      <td>0</td>\n",
       "      <td>0</td>\n",
       "      <td>10</td>\n",
       "      <td>402</td>\n",
       "      <td>16.9</td>\n",
       "      <td>815</td>\n",
       "      <td>92456</td>\n",
       "      <td>0</td>\n",
       "      <td>0</td>\n",
       "    </tr>\n",
       "  </tbody>\n",
       "</table>\n",
       "<p>5 rows × 143 columns</p>\n",
       "</div>"
      ],
      "text/plain": [
       "   provision_id state  year  age18longgunpossess  age18longgunsale  \\\n",
       "0          1151    AL  2014                    0                 0   \n",
       "1          1151    AL  2014                    0                 0   \n",
       "2          1151    AL  2014                    0                 0   \n",
       "3          1151    AL  2014                    0                 0   \n",
       "4          1151    AL  2014                    0                 0   \n",
       "\n",
       "   age21handgunpossess  age21handgunsale  age21longgunpossess  \\\n",
       "0                    0                 0                    0   \n",
       "1                    0                 0                    0   \n",
       "2                    0                 0                    0   \n",
       "3                    0                 0                    0   \n",
       "4                    0                 0                    0   \n",
       "\n",
       "   age21longgunsale  age21longgunsaled  ...  violentpartial  waiting  \\\n",
       "0                 0                  0  ...               0        0   \n",
       "1                 0                  0  ...               0        0   \n",
       "2                 0                  0  ...               0        0   \n",
       "3                 0                  0  ...               0        0   \n",
       "4                 0                  0  ...               0        0   \n",
       "\n",
       "   waitingh  lawtotal  mortality_id  RATE  DEATHS  incident_id  n_killed  \\\n",
       "0         0        10           402  16.9     815        92342         1   \n",
       "1         0        10           402  16.9     815        94194         0   \n",
       "2         0        10           402  16.9     815        92337         1   \n",
       "3         0        10           402  16.9     815        95279         0   \n",
       "4         0        10           402  16.9     815        92456         0   \n",
       "\n",
       "   n_injured  \n",
       "0          0  \n",
       "1          3  \n",
       "2          0  \n",
       "3          1  \n",
       "4          0  \n",
       "\n",
       "[5 rows x 143 columns]"
      ]
     },
     "execution_count": 2,
     "metadata": {},
     "output_type": "execute_result"
    }
   ],
   "source": [
    "# Merge Firearm Provisions with Mortality by State using state and year as keys\n",
    "firearm_mortality_merged = pd.merge(\n",
    "    firearm_provisions, \n",
    "    mortality_by_state, \n",
    "    left_on=[\"state\", \"year\"], \n",
    "    right_on=[\"STATE\", \"YEAR\"], \n",
    "    how=\"inner\"\n",
    ")\n",
    "\n",
    "# Merge the resulting data with Gun Violence Data by state and year\n",
    "full_data_merged = pd.merge(\n",
    "    firearm_mortality_merged,\n",
    "    gun_violence_data,\n",
    "    left_on=[\"state\", \"year\"],\n",
    "    right_on=[\"state\", \"year\"],\n",
    "    how=\"inner\"\n",
    ")\n",
    "\n",
    "# Drop unnecessary duplicate columns from merging\n",
    "full_data_merged.drop(columns=[\"STATE\", \"YEAR\"], inplace=True)\n",
    "\n",
    "# Display a preview of the combined dataset\n",
    "full_data_merged.head()\n"
   ]
  },
  {
   "cell_type": "code",
   "execution_count": 3,
   "metadata": {},
   "outputs": [
    {
     "name": "stdout",
     "output_type": "stream",
     "text": [
      "Classification Report:\n",
      "               precision    recall  f1-score   support\n",
      "\n",
      "           0       1.00      1.00      1.00     34551\n",
      "           1       1.00      1.00      1.00      9966\n",
      "\n",
      "    accuracy                           1.00     44517\n",
      "   macro avg       1.00      1.00      1.00     44517\n",
      "weighted avg       1.00      1.00      1.00     44517\n",
      "\n",
      "ROC-AUC Score: 1.0\n"
     ]
    }
   ],
   "source": [
    "# Predicting High-Risk Locations\n",
    "\n",
    "# Import necessary libraries\n",
    "from sklearn.model_selection import train_test_split\n",
    "from sklearn.ensemble import RandomForestClassifier\n",
    "from sklearn.metrics import classification_report, roc_auc_score\n",
    "\n",
    "# Feature selection for predicting high-risk locations\n",
    "# Ensure 'full_data_merged' is loaded before executing this block\n",
    "features = full_data_merged[['lawtotal', 'RATE', 'n_killed', 'n_injured']]\n",
    "target = (full_data_merged['n_killed'] > 0).astype(int)  # Binary target: 1 if incident occurred, 0 otherwise\n",
    "\n",
    "# Check for NaN values and handle them if necessary\n",
    "features = features.fillna(0)\n",
    "\n",
    "# Splitting the data into training and testing sets\n",
    "X_train, X_test, y_train, y_test = train_test_split(features, target, test_size=0.2, random_state=42)\n",
    "\n",
    "# Training a random forest classifier\n",
    "model = RandomForestClassifier(random_state=42, n_estimators=100)\n",
    "model.fit(X_train, y_train)\n",
    "\n",
    "# Predict and evaluate the model\n",
    "y_pred = model.predict(X_test)\n",
    "y_prob = model.predict_proba(X_test)[:, 1]\n",
    "\n",
    "# Evaluation metrics\n",
    "report = classification_report(y_test, y_pred)\n",
    "roc_auc = roc_auc_score(y_test, y_prob)\n",
    "\n",
    "# Display the evaluation results\n",
    "print(\"Classification Report:\\n\", report)\n",
    "print(\"ROC-AUC Score:\", roc_auc)"
   ]
  },
  {
   "cell_type": "code",
   "execution_count": 4,
   "metadata": {},
   "outputs": [],
   "source": [
    "from sklearn.preprocessing import StandardScaler\n",
    "\n",
    "# Normalize features\n",
    "scaler = StandardScaler()\n",
    "features_scaled = scaler.fit_transform(features)\n",
    "\n",
    "# Update train-test split with normalized features\n",
    "X_train, X_test, y_train, y_test = train_test_split(features_scaled, target, test_size=0.2, random_state=42)"
   ]
  },
  {
   "cell_type": "code",
   "execution_count": 5,
   "metadata": {},
   "outputs": [
    {
     "name": "stdout",
     "output_type": "stream",
     "text": [
      "Classification Report (Regularized):\n",
      "               precision    recall  f1-score   support\n",
      "\n",
      "           0       1.00      1.00      1.00     34551\n",
      "           1       1.00      1.00      1.00      9966\n",
      "\n",
      "    accuracy                           1.00     44517\n",
      "   macro avg       1.00      1.00      1.00     44517\n",
      "weighted avg       1.00      1.00      1.00     44517\n",
      "\n",
      "ROC-AUC Score (Regularized): 1.0\n"
     ]
    }
   ],
   "source": [
    "# Modify random forest with regularization\n",
    "model_regularized = RandomForestClassifier(\n",
    "    random_state=42, \n",
    "    n_estimators=100, \n",
    "    max_depth=20,       # Limit depth of trees\n",
    "    min_samples_split=10,  # Require more samples to split nodes\n",
    "    min_samples_leaf=5    # Require more samples in leaf nodes\n",
    ")\n",
    "model_regularized.fit(X_train, y_train)\n",
    "\n",
    "# Evaluate the regularized model\n",
    "y_pred_reg = model_regularized.predict(X_test)\n",
    "y_prob_reg = model_regularized.predict_proba(X_test)[:, 1]\n",
    "\n",
    "print(\"Classification Report (Regularized):\\n\", classification_report(y_test, y_pred_reg))\n",
    "print(\"ROC-AUC Score (Regularized):\", roc_auc_score(y_test, y_prob_reg))\n"
   ]
  },
  {
   "cell_type": "code",
   "execution_count": 6,
   "metadata": {},
   "outputs": [
    {
     "name": "stdout",
     "output_type": "stream",
     "text": [
      "Refined high-risk locations saved to 'high_risk_locations_refined.csv'\n"
     ]
    }
   ],
   "source": [
    "# Predict probabilities for all data\n",
    "full_data_merged['high_risk_prob_refined'] = model_regularized.predict_proba(features_scaled)[:, 1]\n",
    "\n",
    "# Save high-risk locations\n",
    "high_risk_locations_refined = full_data_merged[['state', 'year', 'high_risk_prob_refined']].sort_values(\n",
    "    by='high_risk_prob_refined', ascending=False\n",
    ")\n",
    "high_risk_locations_refined.to_csv('high_risk_locations_refined.csv', index=False)\n",
    "print(\"Refined high-risk locations saved to 'high_risk_locations_refined.csv'\")\n"
   ]
  },
  {
   "cell_type": "code",
   "execution_count": 7,
   "metadata": {},
   "outputs": [
    {
     "name": "stderr",
     "output_type": "stream",
     "text": [
      "/usr/lib/anaconda3/lib/python3.12/site-packages/sklearn/base.py:493: UserWarning: X does not have valid feature names, but RandomForestClassifier was fitted with feature names\n",
      "  warnings.warn(\n"
     ]
    },
    {
     "name": "stdout",
     "output_type": "stream",
     "text": [
      "Index(['provision_id', 'state', 'year', 'age18longgunpossess',\n",
      "       'age18longgunsale', 'age21handgunpossess', 'age21handgunsale',\n",
      "       'age21longgunpossess', 'age21longgunsale', 'age21longgunsaled',\n",
      "       ...\n",
      "       'waitingh', 'lawtotal', 'mortality_id', 'RATE', 'DEATHS', 'incident_id',\n",
      "       'n_killed', 'n_injured', 'high_risk_prob_refined', 'high_risk_prob'],\n",
      "      dtype='object', length=145)\n"
     ]
    }
   ],
   "source": [
    "# Add predictions from the original model\n",
    "full_data_merged['high_risk_prob'] = model.predict_proba(features_scaled)[:, 1]\n",
    "\n",
    "print(full_data_merged.columns)"
   ]
  },
  {
   "cell_type": "code",
   "execution_count": 8,
   "metadata": {},
   "outputs": [
    {
     "name": "stdout",
     "output_type": "stream",
     "text": [
      "   high_risk_prob  high_risk_prob_refined\n",
      "0             1.0                     1.0\n",
      "1             0.0                     0.0\n",
      "2             1.0                     1.0\n",
      "3             0.0                     0.0\n",
      "4             0.0                     0.0\n"
     ]
    }
   ],
   "source": [
    "print(full_data_merged[['high_risk_prob', 'high_risk_prob_refined']].head())"
   ]
  },
  {
   "cell_type": "code",
   "execution_count": 9,
   "metadata": {},
   "outputs": [
    {
     "data": {
      "image/png": "[encoded data removed]",
      "text/plain": [
       "<Figure size 1000x600 with 1 Axes>"
      ]
     },
     "metadata": {},
     "output_type": "display_data"
    }
   ],
   "source": [
    "import seaborn as sns\n",
    "import matplotlib.pyplot as plt\n",
    "\n",
    "# Combine predictions into a DataFrame\n",
    "comparison_df = pd.DataFrame({\n",
    "    'Original': full_data_merged['high_risk_prob'],\n",
    "    'Refined': full_data_merged['high_risk_prob_refined']\n",
    "})\n",
    "\n",
    "# Plot density plots for comparison\n",
    "plt.figure(figsize=(10, 6))\n",
    "sns.kdeplot(comparison_df['Original'], label='Original Model', fill=True, alpha=0.5)\n",
    "sns.kdeplot(comparison_df['Refined'], label='Refined Model', fill=True, alpha=0.1)\n",
    "plt.title('Comparison of High-Risk Predictions')\n",
    "plt.xlabel('High-Risk Probability')\n",
    "plt.ylabel('Density')\n",
    "plt.legend()\n",
    "plt.show()\n"
   ]
  },
  {
   "cell_type": "code",
   "execution_count": 10,
   "metadata": {},
   "outputs": [
    {
     "data": {
      "image/png": "[encoded data removed]",
      "text/plain": [
       "<Figure size 1200x800 with 1 Axes>"
      ]
     },
     "metadata": {},
     "output_type": "display_data"
    }
   ],
   "source": [
    "# Group by state and calculate averages\n",
    "state_comparison = full_data_merged.groupby('state').agg({\n",
    "    'high_risk_prob': 'mean',\n",
    "    'high_risk_prob_refined': 'mean'\n",
    "}).reset_index()\n",
    "\n",
    "# Melt data for easier plotting\n",
    "state_comparison_melted = state_comparison.melt(\n",
    "    id_vars='state', var_name='Model', value_name='Average High-Risk Probability'\n",
    ")\n",
    "\n",
    "# Plot bar chart\n",
    "plt.figure(figsize=(12, 8))\n",
    "sns.barplot(data=state_comparison_melted, x='state', y='Average High-Risk Probability', hue='Model')\n",
    "plt.xticks(rotation=90)\n",
    "plt.title('Average High-Risk Probability by State')\n",
    "plt.ylabel('High-Risk Probability')\n",
    "plt.xlabel('State')\n",
    "plt.legend(title='Model')\n",
    "plt.show()"
   ]
  },
  {
   "cell_type": "code",
   "execution_count": null,
   "metadata": {},
   "outputs": [],
   "source": [
    "# Pivot data for heatmap\n",
    "heatmap_original = full_data_merged.pivot_table(index='state', columns='year', values='high_risk_prob')\n",
    "heatmap_refined = full_data_merged.pivot_table(index='state', columns='year', values='high_risk_prob_refined')\n",
    "\n",
    "# Plot heatmap for the original model\n",
    "plt.figure(figsize=(12, 8))\n",
    "sns.heatmap(heatmap_original, cmap='Reds', cbar_kws={'label': 'High-Risk Probability'})\n",
    "plt.title('High-Risk Probability (Original Model)')\n",
    "plt.xlabel('Year')\n",
    "plt.ylabel('State')\n",
    "plt.show()\n",
    "\n",
    "# Plot heatmap for the refined model\n",
    "plt.figure(figsize=(12, 8))\n",
    "sns.heatmap(heatmap_refined, cmap='Blues', cbar_kws={'label': 'High-Risk Probability'})\n",
    "plt.title('High-Risk Probability (Refined Model)')\n",
    "plt.xlabel('Year')\n",
    "plt.ylabel('State')\n",
    "plt.show()"
   ]
  },
  {
   "cell_type": "code",
   "execution_count": 12,
   "metadata": {},
   "outputs": [
    {
     "data": {
      "image/png": "[encoded data removed]",
      "text/plain": [
       "<Figure size 640x480 with 1 Axes>"
      ]
     },
     "metadata": {},
     "output_type": "display_data"
    }
   ],
   "source": [
    "feature_importances = model.feature_importances_\n",
    "plt.barh(features.columns, feature_importances)\n",
    "plt.title(\"Feature Importance\")\n",
    "plt.show()"
   ]
  },
  {
   "cell_type": "code",
   "execution_count": 13,
   "metadata": {},
   "outputs": [
    {
     "data": {
      "image/png": "[encoded data removed]",
      "text/plain": [
       "<Figure size 640x480 with 2 Axes>"
      ]
     },
     "metadata": {},
     "output_type": "display_data"
    }
   ],
   "source": [
    "correlations = full_data_merged[['high_risk_prob', 'RATE', 'lawtotal']].corr()\n",
    "sns.heatmap(correlations, annot=True, cmap='coolwarm')\n",
    "plt.title(\"Correlation Matrix\")\n",
    "plt.show()\n"
   ]
  },
  {
   "cell_type": "code",
   "execution_count": 14,
   "metadata": {},
   "outputs": [
    {
     "name": "stdout",
     "output_type": "stream",
     "text": [
      "High-Law States Avg Risk: 0.2020284583791506\n",
      "Low-Law States Avg Risk: 0.24685301383186584\n"
     ]
    }
   ],
   "source": [
    "# Subset analysis: States with high vs. low law totals\n",
    "high_law_states = full_data_merged[full_data_merged['lawtotal'] > full_data_merged['lawtotal'].median()]\n",
    "low_law_states = full_data_merged[full_data_merged['lawtotal'] <= full_data_merged['lawtotal'].median()]\n",
    "\n",
    "# Compare average high-risk probabilities\n",
    "print(\"High-Law States Avg Risk:\", high_law_states['high_risk_prob'].mean())\n",
    "print(\"Low-Law States Avg Risk:\", low_law_states['high_risk_prob'].mean())\n"
   ]
  },
  {
   "cell_type": "code",
   "execution_count": 15,
   "metadata": {},
   "outputs": [
    {
     "name": "stdout",
     "output_type": "stream",
     "text": [
      "Top High-Risk States:\n",
      " state\n",
      "AZ    0.398232\n",
      "NV    0.354891\n",
      "TX    0.315425\n",
      "AL    0.308657\n",
      "CA    0.308468\n",
      "MS    0.289221\n",
      "MO    0.288357\n",
      "MD    0.272401\n",
      "NM    0.250307\n",
      "AR    0.244506\n",
      "Name: high_risk_prob, dtype: float64\n"
     ]
    }
   ],
   "source": [
    "# Rank states by average high-risk probability\n",
    "top_locations = full_data_merged.groupby('state')['high_risk_prob'].mean().sort_values(ascending=False)\n",
    "print(\"Top High-Risk States:\\n\", top_locations.head(10))"
   ]
  },
  {
   "cell_type": "code",
   "execution_count": 16,
   "metadata": {},
   "outputs": [
    {
     "name": "stdout",
     "output_type": "stream",
     "text": [
      "Top High-Risk States for 2014:\n",
      " state\n",
      "NV    0.364362\n",
      "AZ    0.357914\n",
      "CA    0.321257\n",
      "TX    0.293639\n",
      "MO    0.272791\n",
      "MS    0.262742\n",
      "NM    0.259375\n",
      "AR    0.249983\n",
      "WA    0.237790\n",
      "FL    0.237081\n",
      "Name: high_risk_prob, dtype: float64\n"
     ]
    }
   ],
   "source": [
    "# Rank high-risk states for a specific year\n",
    "year_specific = full_data_merged[full_data_merged['year'] == 2014]  # Adjust year\n",
    "top_locations_year = year_specific.groupby('state')['high_risk_prob'].mean().sort_values(ascending=False)\n",
    "print(\"Top High-Risk States for 2014:\\n\", top_locations_year.head(10))"
   ]
  },
  {
   "cell_type": "code",
   "execution_count": 17,
   "metadata": {},
   "outputs": [
    {
     "name": "stdout",
     "output_type": "stream",
     "text": [
      "Feature Importances:\n",
      "      Feature  Importance\n",
      "2   n_killed    0.963805\n",
      "3  n_injured    0.032512\n",
      "1       RATE    0.002929\n",
      "0   lawtotal    0.000753\n"
     ]
    }
   ],
   "source": [
    "# Identifying the Most Effective Laws\n",
    "\n",
    "# Feature importance from the model\n",
    "feature_importances = pd.DataFrame({\n",
    "    'Feature': features.columns,\n",
    "    'Importance': model.feature_importances_\n",
    "}).sort_values(by='Importance', ascending=False)\n",
    "print(\"Feature Importances:\\n\", feature_importances)"
   ]
  },
  {
   "cell_type": "code",
   "execution_count": 18,
   "metadata": {},
   "outputs": [
    {
     "name": "stdout",
     "output_type": "stream",
     "text": [
      "Correlation Matrix:\n",
      "                      high_risk_prob  age18longgunpossess  age21handgunpossess  \\\n",
      "high_risk_prob             1.000000            -0.028477            -0.066026   \n",
      "age18longgunpossess       -0.028477             1.000000             0.237704   \n",
      "age21handgunpossess       -0.066026             0.237704             1.000000   \n",
      "waiting                    0.010781            -0.188456            -0.130625   \n",
      "lawtotal                  -0.027594             0.082283             0.513228   \n",
      "\n",
      "                      waiting  lawtotal  \n",
      "high_risk_prob       0.010781 -0.027594  \n",
      "age18longgunpossess -0.188456  0.082283  \n",
      "age21handgunpossess -0.130625  0.513228  \n",
      "waiting              1.000000  0.641231  \n",
      "lawtotal             0.641231  1.000000  \n"
     ]
    }
   ],
   "source": [
    "# Correlation analysis\n",
    "laws = ['age18longgunpossess', 'age21handgunpossess', 'waiting', 'lawtotal']  # Add relevant laws\n",
    "correlation_matrix = full_data_merged[['high_risk_prob'] + laws].corr()\n",
    "print(\"Correlation Matrix:\\n\", correlation_matrix)"
   ]
  },
  {
   "cell_type": "code",
   "execution_count": 19,
   "metadata": {},
   "outputs": [
    {
     "name": "stdout",
     "output_type": "stream",
     "text": [
      "T-Statistic: 5.0866026143734535\n",
      "P-Value: 3.648295944400375e-07\n"
     ]
    }
   ],
   "source": [
    "from scipy.stats import ttest_ind\n",
    "\n",
    "# Example: Compare states with and without 'waiting' laws\n",
    "with_law = full_data_merged[full_data_merged['waiting'] > 0]\n",
    "without_law = full_data_merged[full_data_merged['waiting'] == 0]\n",
    "\n",
    "t_stat, p_value = ttest_ind(with_law['high_risk_prob'], without_law['high_risk_prob'])\n",
    "print(\"T-Statistic:\", t_stat)\n",
    "print(\"P-Value:\", p_value)\n"
   ]
  },
  {
   "cell_type": "code",
   "execution_count": 21,
   "metadata": {},
   "outputs": [
    {
     "name": "stdout",
     "output_type": "stream",
     "text": [
      "With Waiting Period - Mean: 0.236226992934898, Std: 0.4247530604630797\n",
      "Without Waiting Period - Mean: 0.22354672658133048, Std: 0.4166110163460571\n"
     ]
    }
   ],
   "source": [
    "with_law_mean = with_law['high_risk_prob'].mean()\n",
    "without_law_mean = without_law['high_risk_prob'].mean()\n",
    "with_law_std = with_law['high_risk_prob'].std()\n",
    "without_law_std = without_law['high_risk_prob'].std()\n",
    "\n",
    "print(f\"With Waiting Period - Mean: {with_law_mean}, Std: {with_law_std}\")\n",
    "print(f\"Without Waiting Period - Mean: {without_law_mean}, Std: {without_law_std}\")"
   ]
  }
 ],
 "metadata": {
  "kernelspec": {
   "display_name": "Python 3 (ipykernel)",
   "language": "python",
   "name": "python3"
  },
  "language_info": {
   "codemirror_mode": {
    "name": "ipython",
    "version": 3
   },
   "file_extension": ".py",
   "mimetype": "text/x-python",
   "name": "python",
   "nbconvert_exporter": "python",
   "pygments_lexer": "ipython3",
   "version": "3.12.2"
  }
 },
 "nbformat": 4,
 "nbformat_minor": 4
}
